{
 "cells": [
  {
   "cell_type": "code",
   "execution_count": null,
   "metadata": {},
   "outputs": [],
   "source": [
    "import pandas as pd"
   ]
  },
  {
   "cell_type": "markdown",
   "metadata": {},
   "source": [
    "### Criar DataFrames com base nos datasets"
   ]
  },
  {
   "cell_type": "code",
   "execution_count": null,
   "metadata": {},
   "outputs": [],
   "source": [
    "# Carregar Dataframe de clientes (customers)\n",
    "df_customers = pd.read_csv('./datasets/churn_customers.csv')"
   ]
  },
  {
   "cell_type": "code",
   "execution_count": null,
   "metadata": {},
   "outputs": [],
   "source": [
    "df_contracts = pd.read_csv('./datasets/churn_contracts.csv')"
   ]
  },
  {
   "cell_type": "code",
   "execution_count": null,
   "metadata": {},
   "outputs": [],
   "source": [
    "df_services = pd.read_csv('./datasets/churn_services.csv')"
   ]
  },
  {
   "cell_type": "code",
   "execution_count": null,
   "metadata": {},
   "outputs": [],
   "source": [
    "df_customers.head(5)"
   ]
  },
  {
   "cell_type": "code",
   "execution_count": null,
   "metadata": {},
   "outputs": [],
   "source": [
    "df_customers.tail(5)"
   ]
  },
  {
   "cell_type": "code",
   "execution_count": null,
   "metadata": {},
   "outputs": [],
   "source": [
    "df_customers.describe()"
   ]
  },
  {
   "cell_type": "code",
   "execution_count": null,
   "metadata": {},
   "outputs": [],
   "source": [
    "df_customers.info()"
   ]
  },
  {
   "cell_type": "markdown",
   "metadata": {},
   "source": [
    "### Transformação de dados"
   ]
  },
  {
   "cell_type": "code",
   "execution_count": null,
   "metadata": {},
   "outputs": [],
   "source": [
    "# Transformar a coluna \"TotalCharges\" de string para float - errors 'coerce' -> se não consegue converter para numérico, converte para None (null)\n",
    "df_contracts['TotalCharges'] = pd.to_numeric(df_contracts['TotalCharges'], errors='coerce')"
   ]
  },
  {
   "cell_type": "code",
   "execution_count": null,
   "metadata": {},
   "outputs": [],
   "source": [
    "df_contracts.info()"
   ]
  },
  {
   "cell_type": "markdown",
   "metadata": {},
   "source": [
    "### Renomear colunas"
   ]
  },
  {
   "cell_type": "code",
   "execution_count": null,
   "metadata": {},
   "outputs": [],
   "source": [
    "df_customers.info()"
   ]
  },
  {
   "cell_type": "code",
   "execution_count": null,
   "metadata": {},
   "outputs": [],
   "source": [
    "# Renomear coluna SeniorCitizen. O rename retorna uma cópia do dataframe, com o rename aplicado. O arg \"inplace\" faz com que o dataframe atual seja renomeado\n",
    "df_customers.rename(columns={'SeniorCitizen': 'Above65yo'}, inplace=True)"
   ]
  },
  {
   "cell_type": "code",
   "execution_count": null,
   "metadata": {},
   "outputs": [],
   "source": [
    "df_customers.info()"
   ]
  },
  {
   "cell_type": "code",
   "execution_count": null,
   "metadata": {},
   "outputs": [],
   "source": [
    "# Renomear usando Listas\n",
    "df_customers.columns = ['id', 'genero', 'idoso', 'casado', 'dependentes']"
   ]
  },
  {
   "cell_type": "code",
   "execution_count": null,
   "metadata": {},
   "outputs": [],
   "source": [
    "df_customers.info()"
   ]
  },
  {
   "cell_type": "markdown",
   "metadata": {},
   "source": [
    "### Unificar Dataframes customers, services e contracts"
   ]
  },
  {
   "cell_type": "code",
   "execution_count": null,
   "metadata": {},
   "outputs": [],
   "source": [
    "# Contar quantidade de registros por dataframe\n",
    "len(df_customers)"
   ]
  },
  {
   "cell_type": "code",
   "execution_count": null,
   "metadata": {},
   "outputs": [],
   "source": [
    "len(df_contracts)"
   ]
  },
  {
   "cell_type": "code",
   "execution_count": null,
   "metadata": {},
   "outputs": [],
   "source": [
    "len(df_services)"
   ]
  },
  {
   "cell_type": "code",
   "execution_count": null,
   "metadata": {},
   "outputs": [],
   "source": [
    "df_contracts.info()"
   ]
  },
  {
   "cell_type": "code",
   "execution_count": null,
   "metadata": {},
   "outputs": [],
   "source": [
    "df_contracts.rename(columns={'customerID': 'id'}, inplace=True)"
   ]
  },
  {
   "cell_type": "code",
   "execution_count": null,
   "metadata": {},
   "outputs": [],
   "source": [
    "df_contracts.info()"
   ]
  },
  {
   "cell_type": "code",
   "execution_count": null,
   "metadata": {},
   "outputs": [],
   "source": [
    "df_services.rename(columns={'customerID': 'id'}, inplace=True)"
   ]
  },
  {
   "cell_type": "code",
   "execution_count": null,
   "metadata": {},
   "outputs": [],
   "source": [
    "df_services.info()"
   ]
  },
  {
   "cell_type": "code",
   "execution_count": null,
   "metadata": {},
   "outputs": [],
   "source": [
    "df_temp = df_contracts.merge(df_services, on=['id'])"
   ]
  },
  {
   "cell_type": "code",
   "execution_count": null,
   "metadata": {},
   "outputs": [],
   "source": [
    "df_temp.head(5)"
   ]
  },
  {
   "cell_type": "code",
   "execution_count": null,
   "metadata": {},
   "outputs": [],
   "source": [
    "df_temp.info()"
   ]
  },
  {
   "cell_type": "code",
   "execution_count": null,
   "metadata": {},
   "outputs": [],
   "source": [
    "df_customers.rename(columns={'id': 'customerId'}, inplace=True)"
   ]
  },
  {
   "cell_type": "code",
   "execution_count": null,
   "metadata": {},
   "outputs": [],
   "source": [
    "# Unificar df_temp com customers utilizando colunas de junção de nomes distintos (duplica a coluna comum, devido ao nome distinto)\n",
    "df_churn_temp = df_temp.merge(df_customers, left_on=['id'], right_on=['customerId'], )"
   ]
  },
  {
   "cell_type": "code",
   "execution_count": null,
   "metadata": {},
   "outputs": [],
   "source": [
    "df_churn_temp.info()"
   ]
  },
  {
   "cell_type": "code",
   "execution_count": null,
   "metadata": {},
   "outputs": [],
   "source": [
    "df_churn_temp.head(5)"
   ]
  },
  {
   "cell_type": "code",
   "execution_count": null,
   "metadata": {},
   "outputs": [],
   "source": [
    "# Unificar os três dataframes ao mesmo tempo contendo colunas de junção de nomes distintos\n",
    "df_churn = df_customers.merge(df_services, left_on=['customerId'], right_on=['id']).merge(df_contracts, on=['id'])"
   ]
  },
  {
   "cell_type": "code",
   "execution_count": null,
   "metadata": {},
   "outputs": [],
   "source": [
    "df_churn.info()"
   ]
  },
  {
   "cell_type": "code",
   "execution_count": null,
   "metadata": {},
   "outputs": [],
   "source": [
    "# Remover coluna duplicada\n",
    "df_churn.drop(columns=['id'], inplace=True)"
   ]
  },
  {
   "cell_type": "code",
   "execution_count": null,
   "metadata": {},
   "outputs": [],
   "source": [
    "df_churn.rename(columns={'customerId': 'id'}, inplace=True)"
   ]
  },
  {
   "cell_type": "code",
   "execution_count": null,
   "metadata": {},
   "outputs": [],
   "source": [
    "df_churn.info()"
   ]
  },
  {
   "cell_type": "markdown",
   "metadata": {},
   "source": [
    "### Detecção de valores ausentes"
   ]
  },
  {
   "cell_type": "code",
   "execution_count": null,
   "metadata": {},
   "outputs": [],
   "source": [
    "# Detectar valores ausentes em todas as colunas de um dataframe\n",
    "df_churn.isna().sum()"
   ]
  },
  {
   "cell_type": "code",
   "execution_count": null,
   "metadata": {},
   "outputs": [],
   "source": [
    "# Detectar valores ausentes em uma coluna\n",
    "df_churn['TotalCharges'].isna().sum()"
   ]
  },
  {
   "cell_type": "code",
   "execution_count": null,
   "metadata": {},
   "outputs": [],
   "source": [
    "# Quantas linhas têm pelo menos uma coluna com valor ausente\n",
    "df_churn[df_churn.isna().any(axis=1)]"
   ]
  },
  {
   "cell_type": "code",
   "execution_count": null,
   "metadata": {},
   "outputs": [],
   "source": [
    "# Quais colunas tem ao menos um valor ausente\n",
    "df_churn.isna().any(axis=0)"
   ]
  },
  {
   "cell_type": "markdown",
   "metadata": {},
   "source": [
    "### Remover valores ausentes"
   ]
  },
  {
   "cell_type": "code",
   "execution_count": null,
   "metadata": {},
   "outputs": [],
   "source": [
    "# Remover de forma direta e específica a coluna que possuem valores ausentes\n",
    "df_churn.drop(columns=['TotalCharges'], axis=1)"
   ]
  },
  {
   "cell_type": "code",
   "execution_count": null,
   "metadata": {},
   "outputs": [],
   "source": []
  },
  {
   "cell_type": "code",
   "execution_count": null,
   "metadata": {},
   "outputs": [],
   "source": [
    "# Remover todas as colunas que possuem ao menos um valor ausente\n",
    "df_churn.dropna(axis=1)"
   ]
  },
  {
   "cell_type": "code",
   "execution_count": null,
   "metadata": {},
   "outputs": [],
   "source": [
    "# Remover linhas com dados nulos\n",
    "df_churn.dropna(axis=0)"
   ]
  },
  {
   "cell_type": "code",
   "execution_count": null,
   "metadata": {},
   "outputs": [],
   "source": [
    "# Remover linhas caso todos seus valores sejam ausentes\n",
    "df_churn.dropna(axis=0, how='all')"
   ]
  },
  {
   "cell_type": "markdown",
   "metadata": {},
   "source": [
    "### Imputação de valores ausentes"
   ]
  },
  {
   "cell_type": "code",
   "execution_count": null,
   "metadata": {},
   "outputs": [],
   "source": [
    "# Preencher todos os valores ausentes pelo número 0\n",
    "df_churn.fillna(0)"
   ]
  },
  {
   "cell_type": "code",
   "execution_count": null,
   "metadata": {},
   "outputs": [],
   "source": [
    "# Preencher valores padrão conforme a coluna, considerando valores ausentes\n",
    "df_churn.fillna(value={'TotalCharges': 0, 'genero': 'Não declarado' })"
   ]
  },
  {
   "cell_type": "code",
   "execution_count": null,
   "metadata": {},
   "outputs": [],
   "source": [
    "# Preencher todos os valores ausentes de uma coluna com a média\n",
    "media_TotalCharges = df_churn['TotalCharges'].mean()"
   ]
  },
  {
   "cell_type": "code",
   "execution_count": null,
   "metadata": {},
   "outputs": [],
   "source": [
    "media_TotalCharges"
   ]
  },
  {
   "cell_type": "code",
   "execution_count": null,
   "metadata": {},
   "outputs": [],
   "source": [
    "df_churn.fillna(value={'TotalCharges': media_TotalCharges})"
   ]
  },
  {
   "cell_type": "markdown",
   "metadata": {},
   "source": [
    "### Análise Univariada"
   ]
  },
  {
   "cell_type": "markdown",
   "metadata": {},
   "source": [
    "- A faixa etária do cliente tem uma forte associação com o churn\n",
    "- Um cliente com menos de 6 meses de contrato é mais propenso ao churn\n",
    "- Um cliente com contrato mensal é mais propenso ao churn"
   ]
  },
  {
   "cell_type": "code",
   "execution_count": null,
   "metadata": {},
   "outputs": [],
   "source": [
    "# Identificar valores possíveis/únicos em uma variável do dataframe\n",
    "df_churn['Churn'].unique()"
   ]
  },
  {
   "cell_type": "code",
   "execution_count": null,
   "metadata": {},
   "outputs": [],
   "source": [
    "# Contar clientes usando a variável Churn como referência, agrupando pelos valores possíveis\n",
    "df_churn['Churn'].value_counts()"
   ]
  },
  {
   "cell_type": "code",
   "execution_count": null,
   "metadata": {},
   "outputs": [],
   "source": [
    "# Como é a distribuição percentual de clientes que abandonaram ou continuam ativos\n",
    "df_churn['Churn'].value_counts(normalize=True)"
   ]
  },
  {
   "cell_type": "code",
   "execution_count": null,
   "metadata": {},
   "outputs": [],
   "source": [
    "# Plot distribuição do churn (quantidade)\n",
    "ax = df_churn['Churn'].value_counts().plot.bar()\n",
    "ax.bar_label(ax.containers[0])"
   ]
  },
  {
   "cell_type": "code",
   "execution_count": null,
   "metadata": {},
   "outputs": [],
   "source": [
    "# Plot distribuição do churn (percentual)\n",
    "ax = df_churn['Churn'].value_counts(normalize=True).plot.bar()\n",
    "ax.bar_label(ax.containers[0])"
   ]
  },
  {
   "cell_type": "code",
   "execution_count": null,
   "metadata": {},
   "outputs": [],
   "source": [
    "# Quais são os tipos de contrato\n",
    "df_churn[\"Contract\"].value_counts()"
   ]
  },
  {
   "cell_type": "code",
   "execution_count": null,
   "metadata": {},
   "outputs": [],
   "source": [
    "# Plot distribuição dos contratos (quantidade)\n",
    "ax = df_churn['Contract'].value_counts().plot.bar()\n",
    "ax.bar_label(ax.containers[0])"
   ]
  },
  {
   "cell_type": "code",
   "execution_count": null,
   "metadata": {},
   "outputs": [],
   "source": [
    "# Plot distribuição dos contratos (percentual)\n",
    "ax = df_churn['Contract'].value_counts(normalize=True).plot.bar()\n",
    "ax.bar_label(ax.containers[0])"
   ]
  },
  {
   "cell_type": "code",
   "execution_count": null,
   "metadata": {},
   "outputs": [],
   "source": [
    "# Tempo de contrato (meses)\n",
    "df_churn[\"tenure\"].plot.hist()"
   ]
  },
  {
   "cell_type": "markdown",
   "metadata": {},
   "source": [
    "- A variável tenure (tempo de contrato) não se apresenta visualmente como uma distribuição normal\n",
    "- A grande parte dos valores se encontram nos extremos, ou seja, contratos de curta duração e contratos de longa duração, acima dos 65 meses"
   ]
  },
  {
   "cell_type": "code",
   "execution_count": null,
   "metadata": {},
   "outputs": [],
   "source": [
    "# Histograma do MonthlyChargest (custom mensal do contrato)\n",
    "df_churn['MonthlyCharges'].plot.hist()"
   ]
  },
  {
   "cell_type": "code",
   "execution_count": null,
   "metadata": {},
   "outputs": [],
   "source": [
    "# Medidas de posição - Média do tempo de contrato\n",
    "df_churn['tenure'].mean()"
   ]
  },
  {
   "cell_type": "code",
   "execution_count": null,
   "metadata": {},
   "outputs": [],
   "source": [
    "# Medidas de posição - Mediana do tempo de contrato\n",
    "df_churn['tenure'].median()"
   ]
  },
  {
   "cell_type": "code",
   "execution_count": null,
   "metadata": {},
   "outputs": [],
   "source": [
    "# Medidas de posição - Moda do tempo de contrato\n",
    "df_churn['tenure'].mode()[0]"
   ]
  },
  {
   "cell_type": "code",
   "execution_count": null,
   "metadata": {},
   "outputs": [],
   "source": [
    "# Medidas de dispersão - Desvio padrão\n",
    "df_churn['tenure'].std()"
   ]
  },
  {
   "cell_type": "code",
   "execution_count": null,
   "metadata": {},
   "outputs": [],
   "source": [
    "# Medidas de dispersão - Coeficiente de variação\n",
    "df_churn['tenure'].std() / df_churn['tenure'].mean() * 100"
   ]
  },
  {
   "cell_type": "code",
   "execution_count": null,
   "metadata": {},
   "outputs": [],
   "source": [
    "# Quantos clientes possuem um mês de contrato - Filtro\n",
    "len(df_churn[(df_churn['tenure'] == 1)])"
   ]
  },
  {
   "cell_type": "code",
   "execution_count": null,
   "metadata": {},
   "outputs": [],
   "source": [
    "# Quantos os clientes de um mês de contrato representam percentualmente?\n",
    "len(df_churn[(df_churn['tenure'] == 1)]) / len(df_churn) * 100"
   ]
  },
  {
   "cell_type": "code",
   "execution_count": null,
   "metadata": {},
   "outputs": [],
   "source": [
    "# Quantos clientes têm entre um e seis meses de contrato?\n",
    "df_churn[(df_churn['tenure'] >= 1) & (df_churn['tenure'] <= 6)]['tenure'].value_counts()"
   ]
  },
  {
   "cell_type": "code",
   "execution_count": null,
   "metadata": {},
   "outputs": [],
   "source": [
    "# Aprensentar a quantidade de clientes por tempo de contrato\n",
    "df_churn.groupby('tenure')['tenure'].count().sort_values(ascending=False)"
   ]
  },
  {
   "cell_type": "code",
   "execution_count": null,
   "metadata": {},
   "outputs": [],
   "source": [
    "# Apresentar a quantidade de clientes - Agrupamento com sumarização e plot\n",
    "df_churn.groupby('tenure')['tenure'].count().sort_values().plot.barh(figsize=(20,20))"
   ]
  },
  {
   "cell_type": "markdown",
   "metadata": {},
   "source": [
    "### Análise Bivariada"
   ]
  },
  {
   "cell_type": "code",
   "execution_count": null,
   "metadata": {},
   "outputs": [],
   "source": [
    "# Hipótese: clientes com contrato mensal estão mais propensos ao churn - construir uma tabela de contingência\n",
    "pd.crosstab(df_churn['Churn'], df_churn['Contract'], margins=True, margins_name='Total')"
   ]
  },
  {
   "cell_type": "code",
   "execution_count": null,
   "metadata": {},
   "outputs": [],
   "source": [
    "# Construir a tabela de contingência entre tipo de contrato e churn - proporção\n",
    "pd.crosstab(df_churn['Churn'], df_churn['Contract'], normalize=True, margins=True, margins_name='Total')"
   ]
  },
  {
   "cell_type": "code",
   "execution_count": null,
   "metadata": {},
   "outputs": [],
   "source": [
    "# Construir a tabela de contingência entre tipo de contrato e churn - proporção com totalização por linha\n",
    "pd.crosstab(df_churn['Churn'], df_churn['Contract'], normalize='index', margins=True, margins_name='Total')"
   ]
  },
  {
   "cell_type": "markdown",
   "metadata": {},
   "source": [
    "- Considerando o público total, observamos que, dos clientes que deixaram o serviço, 88.5% possuíam contrato mensal. Desta forma, podemos afirmar que há uma associação entre tipo de contrato mensal e o abandono do serviço."
   ]
  },
  {
   "cell_type": "markdown",
   "metadata": {},
   "source": [
    "##### Avaliar correlação entre duas variáveis qualitativas (ou categóricas)\n",
    "- Executar um teste de hipótese chamado chi-square de Pearson (ou qui-quadrado): Num teste de hipótese, duas hipóteses são formuladas\n",
    "    - H0 (Hipótese nula): as duas variáveis são independentes\n",
    "    - H1 (Hipotese complementar): as duas variáveis não são independentes\n",
    "\n",
    "- O teste serve para confirmar ou recusar a hipótese nula (H0)\n",
    "- Quando a probabilidade de observarmos H0 é inferior ao p-value (por convenção, 0.05), recusamos H0 e seguimos com a H1\n"
   ]
  },
  {
   "cell_type": "code",
   "execution_count": null,
   "metadata": {},
   "outputs": [],
   "source": [
    "# Gerar um dataframe da crosstab (sem totais)\n",
    "df_crosstab_churn_contract = pd.crosstab(df_churn['Churn'], df_churn['Contract'])"
   ]
  },
  {
   "cell_type": "code",
   "execution_count": null,
   "metadata": {},
   "outputs": [],
   "source": [
    "# Calcular os scores e p-values\n",
    "from scipy.stats import chi2_contingency"
   ]
  },
  {
   "cell_type": "code",
   "execution_count": null,
   "metadata": {},
   "outputs": [],
   "source": [
    "chi_scores_churn_contract = chi2_contingency(df_crosstab_churn_contract)"
   ]
  },
  {
   "cell_type": "code",
   "execution_count": null,
   "metadata": {},
   "outputs": [],
   "source": [
    "chi_scores_churn_contract"
   ]
  },
  {
   "cell_type": "code",
   "execution_count": null,
   "metadata": {},
   "outputs": [],
   "source": [
    "scores_churn_contract = pd.Series(chi_scores_churn_contract[0])"
   ]
  },
  {
   "cell_type": "code",
   "execution_count": null,
   "metadata": {},
   "outputs": [],
   "source": [
    "pvalues_churn_contract = pd.Series(chi_scores_churn_contract[1])"
   ]
  },
  {
   "cell_type": "code",
   "execution_count": null,
   "metadata": {},
   "outputs": [],
   "source": [
    "# Apresentar números com decimais sem a notação científica\n",
    "pd.set_option('display.float_format', lambda x: '%.15f' % x)"
   ]
  },
  {
   "cell_type": "code",
   "execution_count": null,
   "metadata": {},
   "outputs": [],
   "source": [
    "# Criar um dataframe com os resultados\n",
    "df_chi_scores_churn_contract = pd.DataFrame({'Chi2': scores_churn_contract, 'p-value': pvalues_churn_contract})"
   ]
  },
  {
   "cell_type": "code",
   "execution_count": null,
   "metadata": {},
   "outputs": [],
   "source": [
    "df_chi_scores_churn_contract"
   ]
  },
  {
   "cell_type": "markdown",
   "metadata": {},
   "source": [
    "- Conforme o teste estatístico chi-square, o p-value <= 0.05, desta forma rejeitamos a hipótese nula, ou seja, as variáveis não são independentes. Pelo chi2 alto, podemos afirmar que há uma forte correlação"
   ]
  },
  {
   "cell_type": "code",
   "execution_count": null,
   "metadata": {},
   "outputs": [],
   "source": [
    "# Analisar a correlação entre uma variável qualitativa e outra quantitativa: utilizar o mesmo teste chi-square, transformando a quantitativa em qualitativa\n",
    "# Hipótese: cliente com menos de 6 meses de contrato é mais propenso ao churn\n",
    "# Criar uma variável Yes/No para contratos abaixo ou acima de 6 meses. Criar uma nova coluna com base na condição de outra coluna - LessThan6MonthsContract\n",
    "import numpy as np"
   ]
  },
  {
   "cell_type": "code",
   "execution_count": null,
   "metadata": {},
   "outputs": [],
   "source": [
    "df_churn['LessThan6MonthsContract'] = np.where(df_churn['tenure'] < 6, 'Yes', 'No')"
   ]
  },
  {
   "cell_type": "code",
   "execution_count": null,
   "metadata": {},
   "outputs": [],
   "source": [
    "df_churn.head(5)"
   ]
  },
  {
   "cell_type": "code",
   "execution_count": null,
   "metadata": {},
   "outputs": [],
   "source": [
    "tenure_churn_crosstab = pd.crosstab(df_churn['Churn'], df_churn['LessThan6MonthsContract'])"
   ]
  },
  {
   "cell_type": "code",
   "execution_count": null,
   "metadata": {},
   "outputs": [],
   "source": [
    "chi_scores_tenure_churn = chi2_contingency(tenure_churn_crosstab)"
   ]
  },
  {
   "cell_type": "code",
   "execution_count": null,
   "metadata": {},
   "outputs": [],
   "source": [
    "scores_tenure_churn = pd.Series(chi_scores_tenure_churn[0])\n",
    "pvalues_tenure_churn = pd.Series(chi_scores_tenure_churn[1])\n",
    "df_tenure_churn = pd.DataFrame({'chi2': scores_tenure_churn, 'p-value': pvalues_tenure_churn})"
   ]
  },
  {
   "cell_type": "code",
   "execution_count": null,
   "metadata": {},
   "outputs": [],
   "source": [
    "df_tenure_churn"
   ]
  },
  {
   "cell_type": "markdown",
   "metadata": {},
   "source": [
    "- Com o p-value < 0.05, rejeitamos a H0, ou seja, as variáveis não são independentes. Com base no chi2 resultante dos dois testes, a correlação entre churn e tempo de contrato inferior a 6 meses é alta, mas é menor que a correlação entre churn e tipo de contrato"
   ]
  },
  {
   "cell_type": "code",
   "execution_count": null,
   "metadata": {},
   "outputs": [],
   "source": [
    "# Correlação entre duas variáveis quantitativas\n",
    "# Hipótese: Quanto maior o tempo de contrato (tenure), maior o total pago pelo cliente (TotalCharges)\n",
    "# Coeficiente de correlação de Pearson\n",
    "df_churn['tenure'].corr(df_churn['TotalCharges'])"
   ]
  },
  {
   "cell_type": "code",
   "execution_count": null,
   "metadata": {},
   "outputs": [],
   "source": [
    "# Coeficiente de correlação de Spearman (captura correlações que podem não ser lineares)\n",
    "df_churn['tenure'].corr(df_churn['TotalCharges'], method='spearman')"
   ]
  },
  {
   "cell_type": "markdown",
   "metadata": {},
   "source": [
    "- Há uma forte correlação entre tempo de contrato (tenure) e total pago pelo cliente (TotalCharges), de acordo com os coeficientes de correlação de Pearson e Spearman"
   ]
  },
  {
   "cell_type": "code",
   "execution_count": null,
   "metadata": {},
   "outputs": [],
   "source": [
    "# Apresentar plot scatter entre tenure e TotalCharges (gráfico de dispersão)\n",
    "df_churn.plot.scatter(x='tenure', y='TotalCharges')"
   ]
  },
  {
   "cell_type": "markdown",
   "metadata": {},
   "source": [
    "- Dado os serviços, o valor pago muda. Porém, observa-se uma tendência de crescimento de acordo com a Tenure (linhas inferiores e superiores bem definidas)\n",
    "- Uma análise multivariada pode ser interessante neste caso, adicionando os serviços contratados na análise"
   ]
  },
  {
   "cell_type": "markdown",
   "metadata": {},
   "source": [
    "- Desafio 1: validar a primeira hipótese - Faixa etária tem forte associação com o churn\n",
    "- Desafio 2: validar com o teste de hipóteses se o contrato mensal está mais propenso ao churn"
   ]
  },
  {
   "cell_type": "code",
   "execution_count": null,
   "metadata": {},
   "outputs": [],
   "source": [
    "# Desafio 1: validar a primeira hipótese - Faixa etária tem forte associação com o churn\n",
    "idoso_churn_crosstable = pd.crosstab(df_churn['idoso'], df_churn['Churn'])"
   ]
  },
  {
   "cell_type": "code",
   "execution_count": null,
   "metadata": {},
   "outputs": [],
   "source": [
    "chi_scores_idoso_churn = chi2_contingency(idoso_churn_crosstable)"
   ]
  },
  {
   "cell_type": "code",
   "execution_count": null,
   "metadata": {},
   "outputs": [],
   "source": [
    "scores_idoso_churn = pd.Series(chi_scores_idoso_churn[0])\n",
    "pvalue_idoso_churn = pd.Series(chi_scores_idoso_churn[1])\n",
    "df_idoso_churn = pd.DataFrame({'chi2': scores_idoso_churn, 'p-value': pvalue_idoso_churn})"
   ]
  },
  {
   "cell_type": "code",
   "execution_count": null,
   "metadata": {},
   "outputs": [],
   "source": [
    "df_idoso_churn"
   ]
  },
  {
   "cell_type": "markdown",
   "metadata": {},
   "source": [
    "- Rejeitada a H0, temos que existe correlação entre entre churn e faixa etária (senioridade), sendo esta mais fraca do que tempo de contrato (tenure) e total pago (TotalCharges)"
   ]
  },
  {
   "cell_type": "code",
   "execution_count": null,
   "metadata": {},
   "outputs": [],
   "source": [
    "# Desafio 2: Validar com teste de hipóteses se o contrato mensal está mais propenso ao churn\n",
    "# Categorizar se é ou não contrato mensal\n",
    "df_churn['MonthlyContract'] = np.where(df_churn['Contract'] == 'Month-to-month', 'Yes', 'No')"
   ]
  },
  {
   "cell_type": "code",
   "execution_count": null,
   "metadata": {},
   "outputs": [],
   "source": [
    "df_churn.head(5)"
   ]
  },
  {
   "cell_type": "code",
   "execution_count": null,
   "metadata": {},
   "outputs": [],
   "source": [
    "monthlycontract_churn_crosstable = pd.crosstab(df_churn['MonthlyContract'], df_churn['Churn'])"
   ]
  },
  {
   "cell_type": "code",
   "execution_count": null,
   "metadata": {},
   "outputs": [],
   "source": [
    "chi_scores_monthlycontract_churn = chi2_contingency(monthlycontract_churn_crosstable)"
   ]
  },
  {
   "cell_type": "code",
   "execution_count": null,
   "metadata": {},
   "outputs": [],
   "source": [
    "scores_monthlycontract_churn = pd.Series(chi_scores_monthlycontract_churn[0])\n",
    "pvalues_monthlycontract_churn = pd.Series(chi_scores_monthlycontract_churn[1])\n",
    "df_monthlycontract_churn = pd.DataFrame({'chi2': scores_monthlycontract_churn, 'p-value': pvalues_monthlycontract_churn})"
   ]
  },
  {
   "cell_type": "code",
   "execution_count": null,
   "metadata": {},
   "outputs": [],
   "source": [
    "df_monthlycontract_churn"
   ]
  },
  {
   "cell_type": "markdown",
   "metadata": {},
   "source": [
    "- Portanto, reafirmamos a conclusão que já possuimos: os dados de Churn e de MonthlyContracts (contratos mensais) não são independentes, tendo uma relação mais forte do que tempo de contrato e senioridade"
   ]
  },
  {
   "cell_type": "markdown",
   "metadata": {},
   "source": [
    "### Detecçaõ de Outliers"
   ]
  },
  {
   "cell_type": "code",
   "execution_count": null,
   "metadata": {},
   "outputs": [],
   "source": [
    "df_churn.info()"
   ]
  },
  {
   "cell_type": "code",
   "execution_count": null,
   "metadata": {},
   "outputs": [],
   "source": [
    "# Remover linhas com valores ausentes\n",
    "df_churn.dropna(axis=0, inplace=True)"
   ]
  },
  {
   "cell_type": "code",
   "execution_count": null,
   "metadata": {},
   "outputs": [],
   "source": [
    "# Box plot geral\n",
    "df_churn['TotalCharges'].plot.box()"
   ]
  },
  {
   "cell_type": "code",
   "execution_count": null,
   "metadata": {},
   "outputs": [],
   "source": [
    "# Box plot agrupado por Contract\n",
    "df_churn.plot.box(column='TotalCharges', by='Contract')"
   ]
  },
  {
   "cell_type": "code",
   "execution_count": null,
   "metadata": {},
   "outputs": [],
   "source": [
    "# Criar dataframe somente para clientes com contrato do tipo Month-to-month\n",
    "df_churn_month = df_churn[df_churn['Contract'] == 'Month-to-month']"
   ]
  },
  {
   "cell_type": "code",
   "execution_count": null,
   "metadata": {},
   "outputs": [],
   "source": [
    "df_churn_month"
   ]
  },
  {
   "cell_type": "code",
   "execution_count": null,
   "metadata": {},
   "outputs": [],
   "source": [
    "# Histograma - verificar se a distribuição tende à normal\n",
    "df_churn_month['TotalCharges'].plot.hist()"
   ]
  },
  {
   "cell_type": "code",
   "execution_count": null,
   "metadata": {},
   "outputs": [],
   "source": [
    "# Método de Tukey - IQR (distribuição não normal)\n",
    "# IQR: Interquartile range = 3º quartil - 1º quartil\n",
    "q1_TotalCharges_month = df_churn_month['TotalCharges'].quantile(0.25)\n",
    "q3_TotalCharges_month = df_churn_month['TotalCharges'].quantile(0.75)\n",
    "iqr_TotalCharges_month = q3_TotalCharges_month - q1_TotalCharges_month\n",
    "iqr_TotalCharges_month\n"
   ]
  },
  {
   "cell_type": "code",
   "execution_count": null,
   "metadata": {},
   "outputs": [],
   "source": [
    "# Limites inferior e superior. Caso o inferior seja negativo, mas isso não se aplique, assume-se zero.\n",
    "limInf_TotalCharges_month = q1_TotalCharges_month - (iqr_TotalCharges_month * 1.5)\n",
    "limSup_TotalCharges_month = q3_TotalCharges_month + (iqr_TotalCharges_month * 1.5)\n",
    "limInf_TotalCharges_month, limSup_TotalCharges_month"
   ]
  },
  {
   "cell_type": "code",
   "execution_count": null,
   "metadata": {},
   "outputs": [],
   "source": [
    "# Filtro que retorna os outliers\n",
    "df_churn_month[(df_churn_month['TotalCharges'] < limInf_TotalCharges_month) | (df_churn_month['TotalCharges'] > limSup_TotalCharges_month)]"
   ]
  },
  {
   "cell_type": "code",
   "execution_count": null,
   "metadata": {},
   "outputs": [],
   "source": [
    "# Método ZScore: Utilizado para distribuição normal\n",
    "# Indica quantos desvios-padrões um ponto específico está distante da média\n",
    "# zscore = (x - média)/desvio padrão\n",
    "from scipy.stats import zscore"
   ]
  },
  {
   "cell_type": "code",
   "execution_count": null,
   "metadata": {},
   "outputs": [],
   "source": [
    "z = np.abs(zscore(df_churn_month['TotalCharges']))\n",
    "z"
   ]
  },
  {
   "cell_type": "code",
   "execution_count": null,
   "metadata": {},
   "outputs": [],
   "source": [
    "# Valor comum: valores acima ou abaixo de 3 desvios padrões da média é um outlier\n",
    "df_churn_month[z > 3.0]"
   ]
  },
  {
   "cell_type": "markdown",
   "metadata": {},
   "source": [
    "### Automatizando EDA com Sweetviz"
   ]
  },
  {
   "cell_type": "code",
   "execution_count": null,
   "metadata": {},
   "outputs": [],
   "source": [
    "# Sweetviz - Abrir no Jupyter Notebook\n",
    "import sweetviz as sv\n",
    "sv_churn_report = sv.analyze(df_churn, target_feat='Churn')"
   ]
  },
  {
   "cell_type": "code",
   "execution_count": null,
   "metadata": {},
   "outputs": [],
   "source": [
    "sv_churn_report.show_notebook()"
   ]
  },
  {
   "cell_type": "code",
   "execution_count": null,
   "metadata": {},
   "outputs": [],
   "source": [
    "sv_churn_report.show_html()"
   ]
  }
 ],
 "metadata": {
  "kernelspec": {
   "display_name": ".venv",
   "language": "python",
   "name": "python3"
  },
  "language_info": {
   "codemirror_mode": {
    "name": "ipython",
    "version": 3
   },
   "file_extension": ".py",
   "mimetype": "text/x-python",
   "name": "python",
   "nbconvert_exporter": "python",
   "pygments_lexer": "ipython3",
   "version": "3.11.5"
  },
  "orig_nbformat": 4
 },
 "nbformat": 4,
 "nbformat_minor": 2
}
